{
 "cells": [
  {
   "cell_type": "code",
   "execution_count": null,
   "metadata": {},
   "outputs": [],
   "source": [
    "!pip install selenium==4.2.0"
   ]
  },
  {
   "cell_type": "code",
   "execution_count": null,
   "metadata": {},
   "outputs": [],
   "source": [
    "from selenium import webdriver\n",
    "from selenium.webdriver.common.keys import Keys\n",
    "import time\n",
    "from bs4 import BeautifulSoup"
   ]
  },
  {
   "cell_type": "code",
   "execution_count": null,
   "metadata": {},
   "outputs": [],
   "source": [
    "from selenium import webdriver as wd\n",
    "driver = wd.Chrome(executable_path = 'chromedriver.exe')"
   ]
  },
  {
   "cell_type": "code",
   "execution_count": null,
   "metadata": {},
   "outputs": [],
   "source": [
    "driver = webdriver.Chrome(\"chromedriver.exe\")\n",
    "driver.get('https://www.youtube.com/c/mevpr/videos')"
   ]
  },
  {
   "cell_type": "code",
   "execution_count": null,
   "metadata": {},
   "outputs": [],
   "source": [
    "import time\n",
    "# 한번 스크롤 후 잠시 멈추는 시간\n",
    "scroll_pause_time = 1\n",
    "\n",
    "# 화면의 본문인 body 태그 선택\n",
    "body = driver.find_element_by_tag_name(\"body\")\n",
    "\n",
    "# 스크롤 후 화면크기와 스크롤 전의 화면크기가 같을 때까지 스크롤 반복\n",
    "while True:\n",
    "\n",
    "    # 현재 화면 길이\n",
    "    last_height = driver.execute_script(\n",
    "    \"return document.documentElement.scrollHeight\"\n",
    "    )\n",
    "    \n",
    "    # end 키를 누름으로써 페이지의 마지막으로 스크롤\n",
    "    # 유튜브이므로 영상이 밑에 더 있으면 화면이 길어짐\n",
    "    body.send_keys(Keys.END)\n",
    "    # 스크롤 후 1초 정지(로딩하는 시간이 있으므로 정지 후 실행)\n",
    "    time.sleep(scroll_pause_time)\n",
    "    \n",
    "    # 스크롤 후의 화면 길이\n",
    "    new_height = driver.execute_script(\n",
    "    \"return document.documentElement.scrollHeight\"\n",
    "    )\n",
    "    # 스크롤 후 화면 길이와 스크롤 전 화면 길이가 같다면 멈춤\n",
    "    if new_height == last_height:\n",
    "        print(\"end\")\n",
    "        break\n"
   ]
  },
  {
   "cell_type": "code",
   "execution_count": null,
   "metadata": {},
   "outputs": [],
   "source": [
    "# youtube 페이지 소스를 page에 대입\n",
    "page = driver.page_source"
   ]
  },
  {
   "cell_type": "code",
   "execution_count": null,
   "metadata": {},
   "outputs": [],
   "source": [
    "from bs4 import BeautifulSoup\n",
    "# page에 저장된 태그를 정리해서 리턴\n",
    "soup = BeautifulSoup(page, 'html.parser')"
   ]
  },
  {
   "cell_type": "code",
   "execution_count": null,
   "metadata": {},
   "outputs": [],
   "source": [
    "# div 태그중 id 속성이 dismissible인 객체 조회(유튜브 영상)\n",
    "all_videos = soup.find_all(id = \"dismissible\")"
   ]
  },
  {
   "cell_type": "code",
   "execution_count": null,
   "metadata": {},
   "outputs": [],
   "source": [
    "# 영상 제목을 넣을 리스트를 만듦\n",
    "title_list = []\n",
    "\n",
    "for video in all_videos:\n",
    "    # id 속성이 dismissible인 객체에서 id가 video-title 속성인 객체 조회(제목)\n",
    "    title = video.find(id = \"video-title\")\n",
    "    # 공백을 제거하고 글자수가 0보다 큰 제목이면 리스트에 추가\n",
    "    if len(title.text.strip())>0:\n",
    "        title_list.append(title.text)"
   ]
  },
  {
   "cell_type": "code",
   "execution_count": null,
   "metadata": {},
   "outputs": [],
   "source": [
    "# 영상의 조회수를 넣을 리스트를 만듦\n",
    "view_num_list = []\n",
    "import re\n",
    "# 조회수를 포함하는 문자열을 검색하기 위한 객체 생성\n",
    "view_num_regexp = re.compile(r'조회수')\n",
    "\n",
    "for video in all_videos:\n",
    "    \n",
    "    # 비디오에 포함된 조회수를 리턴\n",
    "    # span 태그이면서 class 속성이 \"inline-metadata-item style-scope ytd-video-meta-block\" 인 객체 조회\n",
    "    view_num = video.find('span',{'class': \"inline-metadata-item style-scope ytd-video-meta-block\"})\n",
    "    \n",
    "    # 문자열에 \"조회수\" + 문자열이 포함되어 있으면 리스트에 추가\n",
    "    if view_num_regexp.search(view_num.text):\n",
    "        view_num_list.append(view_num.text)\n",
    "        \n"
   ]
  },
  {
   "cell_type": "code",
   "execution_count": null,
   "metadata": {},
   "outputs": [],
   "source": [
    "# 조회수를 숫자로 변환하여 저장할 리스트 생성\n",
    "view_number_type_list = []\n",
    "\n",
    "for view in view_num_list:\n",
    "    # 조회수를 공백으로 변경(조회수 문자열 삭제)\n",
    "    view = view.replace(\"조회수 \", \"\")\n",
    "\n",
    "    # 단위가 만이면 view의 마지막 2번째 문자열까지를 실수로 변환 후 10000을 곱해서 리스트에 추가\n",
    "    if view[-2:] == \"만회\":\n",
    "        view_number_type_list.append(int(float(view[:-2])*10000))\n",
    "    # 단위가 천이면 view의 마지막 2번째 문자열까지를 실수로 변환 후 1000을 곱해서 리스트에 추가                                 \n",
    "    elif view[-2:] == \"천회\":\n",
    "        view_number_type_list.append(int(float(view[:-2])*1000))\n",
    "    # 단위가 1000 이하이면 view의 마지막 문자열까지를 실수로 변환 후 리스트에 추가\n",
    "    else:\n",
    "        view_number_type_list.append(int(view[:-1]))"
   ]
  },
  {
   "cell_type": "code",
   "execution_count": null,
   "metadata": {},
   "outputs": [],
   "source": [
    "    if unit1 == \"만회\":\n",
    "        view_number_type_list.append(int(num1*10000))\n",
    "    elif unit1 == \"천회\":\n",
    "        view_number_type_list.append(int(num1*1000))\n",
    "    else:\n",
    "        view_number_type_list.append(int(num2))\n",
    "\n"
   ]
  },
  {
   "cell_type": "code",
   "execution_count": null,
   "metadata": {},
   "outputs": [],
   "source": [
    "# 제목과 조회수를 매칭시킴\n",
    "dict_youtube = {\"title\": title_list, \"view_num\": view_number_type_list}"
   ]
  },
  {
   "cell_type": "code",
   "execution_count": null,
   "metadata": {},
   "outputs": [],
   "source": [
    "import pandas as pd\n",
    "# 매칭시킨 제목과 조회수를 한 데이터 프레임으로 생성\n",
    "youtube = pd.DataFrame(dict_youtube)"
   ]
  },
  {
   "cell_type": "code",
   "execution_count": null,
   "metadata": {},
   "outputs": [],
   "source": [
    "# 데이터 프레임을 파일로 저장(줄번호까지 저장되면 read.csv할 때 힘들기 때문에 줄번호는 저장 안 함)\n",
    "youtube.to_csv(\"환경부_웹_크롤링.csv\", index = False)"
   ]
  }
 ],
 "metadata": {
  "kernelspec": {
   "display_name": "Python 3",
   "language": "python",
   "name": "python3"
  },
  "language_info": {
   "codemirror_mode": {
    "name": "ipython",
    "version": 3
   },
   "file_extension": ".py",
   "mimetype": "text/x-python",
   "name": "python",
   "nbconvert_exporter": "python",
   "pygments_lexer": "ipython3",
   "version": "3.8.5"
  }
 },
 "nbformat": 4,
 "nbformat_minor": 4
}
